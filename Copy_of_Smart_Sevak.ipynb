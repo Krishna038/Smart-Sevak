{
  "cells": [
    {
      "cell_type": "code",
      "execution_count": 1,
      "metadata": {
        "id": "ih9VlOW_Akf1"
      },
      "outputs": [],
      "source": [
        "import numpy as np\n",
        "import pandas as pd\n",
        "import seaborn as sns\n",
        "import matplotlib.pyplot as plt\n",
        "%matplotlib inline"
      ]
    },
    {
      "cell_type": "code",
      "execution_count": 2,
      "metadata": {
        "id": "apuNuWLYAkf4"
      },
      "outputs": [],
      "source": [
        "import string\n",
        "import re\n",
        "import xgboost\n",
        "from textblob import TextBlob\n",
        "from textblob import Word\n",
        "from wordcloud import WordCloud ,STOPWORDS"
      ]
    },
    {
      "cell_type": "code",
      "execution_count": 3,
      "metadata": {
        "id": "N1xh_SPpAkf4"
      },
      "outputs": [],
      "source": [
        "from nltk.corpus import stopwords\n",
        "from nltk.tokenize import word_tokenize\n",
        "from nltk.wsd import lesk\n",
        "from nltk.stem import PorterStemmer\n",
        "from keras import layers, models, optimizers"
      ]
    },
    {
      "cell_type": "code",
      "execution_count": 4,
      "metadata": {
        "id": "hc1Lt61qAkf5"
      },
      "outputs": [],
      "source": [
        "from sklearn.svm import LinearSVC\n",
        "from sklearn.model_selection import train_test_split\n",
        "from sklearn.feature_extraction.text import CountVectorizer\n",
        "from sklearn.feature_extraction.text import TfidfVectorizer, CountVectorizer, HashingVectorizer, TfidfTransformer\n",
        "from sklearn import model_selection, preprocessing, linear_model, naive_bayes, metrics, svm, decomposition, ensemble"
      ]
    },
    {
      "cell_type": "code",
      "execution_count": 5,
      "metadata": {
        "id": "K5N0XYKLAkf6"
      },
      "outputs": [],
      "source": [
        "import nltk\n",
        "# nltk.download()"
      ]
    },
    {
      "cell_type": "code",
      "execution_count": null,
      "metadata": {
        "id": "iX5R7BcvBAtK",
        "colab": {
          "base_uri": "https://localhost:8080/",
          "height": 38
        },
        "outputId": "da58251a-7c65-4691-dfcb-d778e7472a2e"
      },
      "outputs": [
        {
          "output_type": "display_data",
          "data": {
            "text/plain": [
              "<IPython.core.display.HTML object>"
            ],
            "text/html": [
              "\n",
              "     <input type=\"file\" id=\"files-b5d5870b-07ee-4777-89f1-1cc8cf32e581\" name=\"files[]\" multiple disabled\n",
              "        style=\"border:none\" />\n",
              "     <output id=\"result-b5d5870b-07ee-4777-89f1-1cc8cf32e581\">\n",
              "      Upload widget is only available when the cell has been executed in the\n",
              "      current browser session. Please rerun this cell to enable.\n",
              "      </output>\n",
              "      <script>// Copyright 2017 Google LLC\n",
              "//\n",
              "// Licensed under the Apache License, Version 2.0 (the \"License\");\n",
              "// you may not use this file except in compliance with the License.\n",
              "// You may obtain a copy of the License at\n",
              "//\n",
              "//      http://www.apache.org/licenses/LICENSE-2.0\n",
              "//\n",
              "// Unless required by applicable law or agreed to in writing, software\n",
              "// distributed under the License is distributed on an \"AS IS\" BASIS,\n",
              "// WITHOUT WARRANTIES OR CONDITIONS OF ANY KIND, either express or implied.\n",
              "// See the License for the specific language governing permissions and\n",
              "// limitations under the License.\n",
              "\n",
              "/**\n",
              " * @fileoverview Helpers for google.colab Python module.\n",
              " */\n",
              "(function(scope) {\n",
              "function span(text, styleAttributes = {}) {\n",
              "  const element = document.createElement('span');\n",
              "  element.textContent = text;\n",
              "  for (const key of Object.keys(styleAttributes)) {\n",
              "    element.style[key] = styleAttributes[key];\n",
              "  }\n",
              "  return element;\n",
              "}\n",
              "\n",
              "// Max number of bytes which will be uploaded at a time.\n",
              "const MAX_PAYLOAD_SIZE = 100 * 1024;\n",
              "\n",
              "function _uploadFiles(inputId, outputId) {\n",
              "  const steps = uploadFilesStep(inputId, outputId);\n",
              "  const outputElement = document.getElementById(outputId);\n",
              "  // Cache steps on the outputElement to make it available for the next call\n",
              "  // to uploadFilesContinue from Python.\n",
              "  outputElement.steps = steps;\n",
              "\n",
              "  return _uploadFilesContinue(outputId);\n",
              "}\n",
              "\n",
              "// This is roughly an async generator (not supported in the browser yet),\n",
              "// where there are multiple asynchronous steps and the Python side is going\n",
              "// to poll for completion of each step.\n",
              "// This uses a Promise to block the python side on completion of each step,\n",
              "// then passes the result of the previous step as the input to the next step.\n",
              "function _uploadFilesContinue(outputId) {\n",
              "  const outputElement = document.getElementById(outputId);\n",
              "  const steps = outputElement.steps;\n",
              "\n",
              "  const next = steps.next(outputElement.lastPromiseValue);\n",
              "  return Promise.resolve(next.value.promise).then((value) => {\n",
              "    // Cache the last promise value to make it available to the next\n",
              "    // step of the generator.\n",
              "    outputElement.lastPromiseValue = value;\n",
              "    return next.value.response;\n",
              "  });\n",
              "}\n",
              "\n",
              "/**\n",
              " * Generator function which is called between each async step of the upload\n",
              " * process.\n",
              " * @param {string} inputId Element ID of the input file picker element.\n",
              " * @param {string} outputId Element ID of the output display.\n",
              " * @return {!Iterable<!Object>} Iterable of next steps.\n",
              " */\n",
              "function* uploadFilesStep(inputId, outputId) {\n",
              "  const inputElement = document.getElementById(inputId);\n",
              "  inputElement.disabled = false;\n",
              "\n",
              "  const outputElement = document.getElementById(outputId);\n",
              "  outputElement.innerHTML = '';\n",
              "\n",
              "  const pickedPromise = new Promise((resolve) => {\n",
              "    inputElement.addEventListener('change', (e) => {\n",
              "      resolve(e.target.files);\n",
              "    });\n",
              "  });\n",
              "\n",
              "  const cancel = document.createElement('button');\n",
              "  inputElement.parentElement.appendChild(cancel);\n",
              "  cancel.textContent = 'Cancel upload';\n",
              "  const cancelPromise = new Promise((resolve) => {\n",
              "    cancel.onclick = () => {\n",
              "      resolve(null);\n",
              "    };\n",
              "  });\n",
              "\n",
              "  // Wait for the user to pick the files.\n",
              "  const files = yield {\n",
              "    promise: Promise.race([pickedPromise, cancelPromise]),\n",
              "    response: {\n",
              "      action: 'starting',\n",
              "    }\n",
              "  };\n",
              "\n",
              "  cancel.remove();\n",
              "\n",
              "  // Disable the input element since further picks are not allowed.\n",
              "  inputElement.disabled = true;\n",
              "\n",
              "  if (!files) {\n",
              "    return {\n",
              "      response: {\n",
              "        action: 'complete',\n",
              "      }\n",
              "    };\n",
              "  }\n",
              "\n",
              "  for (const file of files) {\n",
              "    const li = document.createElement('li');\n",
              "    li.append(span(file.name, {fontWeight: 'bold'}));\n",
              "    li.append(span(\n",
              "        `(${file.type || 'n/a'}) - ${file.size} bytes, ` +\n",
              "        `last modified: ${\n",
              "            file.lastModifiedDate ? file.lastModifiedDate.toLocaleDateString() :\n",
              "                                    'n/a'} - `));\n",
              "    const percent = span('0% done');\n",
              "    li.appendChild(percent);\n",
              "\n",
              "    outputElement.appendChild(li);\n",
              "\n",
              "    const fileDataPromise = new Promise((resolve) => {\n",
              "      const reader = new FileReader();\n",
              "      reader.onload = (e) => {\n",
              "        resolve(e.target.result);\n",
              "      };\n",
              "      reader.readAsArrayBuffer(file);\n",
              "    });\n",
              "    // Wait for the data to be ready.\n",
              "    let fileData = yield {\n",
              "      promise: fileDataPromise,\n",
              "      response: {\n",
              "        action: 'continue',\n",
              "      }\n",
              "    };\n",
              "\n",
              "    // Use a chunked sending to avoid message size limits. See b/62115660.\n",
              "    let position = 0;\n",
              "    do {\n",
              "      const length = Math.min(fileData.byteLength - position, MAX_PAYLOAD_SIZE);\n",
              "      const chunk = new Uint8Array(fileData, position, length);\n",
              "      position += length;\n",
              "\n",
              "      const base64 = btoa(String.fromCharCode.apply(null, chunk));\n",
              "      yield {\n",
              "        response: {\n",
              "          action: 'append',\n",
              "          file: file.name,\n",
              "          data: base64,\n",
              "        },\n",
              "      };\n",
              "\n",
              "      let percentDone = fileData.byteLength === 0 ?\n",
              "          100 :\n",
              "          Math.round((position / fileData.byteLength) * 100);\n",
              "      percent.textContent = `${percentDone}% done`;\n",
              "\n",
              "    } while (position < fileData.byteLength);\n",
              "  }\n",
              "\n",
              "  // All done.\n",
              "  yield {\n",
              "    response: {\n",
              "      action: 'complete',\n",
              "    }\n",
              "  };\n",
              "}\n",
              "\n",
              "scope.google = scope.google || {};\n",
              "scope.google.colab = scope.google.colab || {};\n",
              "scope.google.colab._files = {\n",
              "  _uploadFiles,\n",
              "  _uploadFilesContinue,\n",
              "};\n",
              "})(self);\n",
              "</script> "
            ]
          },
          "metadata": {}
        }
      ],
      "source": [
        "from google.colab import files\n",
        "uploaded= files.upload()"
      ]
    },
    {
      "cell_type": "code",
      "execution_count": null,
      "metadata": {
        "id": "MEGEkfUVAkf6"
      },
      "outputs": [],
      "source": [
        "smart=pd.read_excel('smartsevak.xlsx')"
      ]
    },
    {
      "cell_type": "code",
      "execution_count": null,
      "metadata": {
        "id": "3DXRBeG5Akf7"
      },
      "outputs": [],
      "source": [
        "smart.head()"
      ]
    },
    {
      "cell_type": "code",
      "execution_count": null,
      "metadata": {
        "id": "v9oRlSk5Akf7"
      },
      "outputs": [],
      "source": [
        "smart.info()"
      ]
    },
    {
      "cell_type": "code",
      "execution_count": null,
      "metadata": {
        "id": "-570Spc6Akf8"
      },
      "outputs": [],
      "source": [
        "smart.keys()"
      ]
    },
    {
      "cell_type": "markdown",
      "metadata": {
        "id": "QfNUDbNxAkf8"
      },
      "source": [
        "### Basic Exploratory Analysis"
      ]
    },
    {
      "cell_type": "code",
      "execution_count": null,
      "metadata": {
        "id": "1h33I-llAkf-"
      },
      "outputs": [],
      "source": [
        "df=smart"
      ]
    },
    {
      "cell_type": "code",
      "execution_count": null,
      "metadata": {
        "id": "tLhok_qMBMIB"
      },
      "outputs": [],
      "source": [
        "import nltk\n",
        "nltk.download('stopwords')\n",
        "nltk.download('punkt')\n",
        "nltk.download('averaged_perceptron_tagger')\n",
        "nltk.download('wordnet')\n",
        "nltk.download('omw-1.4')"
      ]
    },
    {
      "cell_type": "code",
      "execution_count": null,
      "metadata": {
        "id": "z46PxtHMAkf-"
      },
      "outputs": [],
      "source": [
        "eng_stopwords = set(stopwords.words(\"english\"))"
      ]
    },
    {
      "cell_type": "code",
      "execution_count": null,
      "metadata": {
        "id": "hFfhUhBHAkf-"
      },
      "outputs": [],
      "source": [
        "df['Reviews'] = df['Reviews'].astype(str)\n",
        "df['count_sent']=df[\"Reviews\"].apply(lambda x: len(re.findall(\"\\n\",str(x)))+1)\n",
        "\n",
        "#Word count in each comment:\n",
        "df['count_word']=df[\"Reviews\"].apply(lambda x: len(str(x).split()))\n",
        "\n",
        "#Unique word count\n",
        "df['count_unique_word']=df[\"Reviews\"].apply(lambda x: len(set(str(x).split())))\n",
        "\n",
        "#Letter count\n",
        "df['count_letters']=df[\"Reviews\"].apply(lambda x: len(str(x)))\n",
        "\n",
        "#Word density\n",
        "\n",
        "df['word_density'] = df['count_letters'] / (df['count_word']+1)\n",
        "\n",
        "#punctuation count\n",
        "df[\"count_punctuations\"] =df[\"Reviews\"].apply(lambda x: len([c for c in str(x) if c in string.punctuation]))\n",
        "\n",
        "#upper case words count\n",
        "df[\"count_words_upper\"] = df[\"Reviews\"].apply(lambda x: len([w for w in str(x).split() if w.isupper()]))\n",
        "\n",
        "#upper case words count\n",
        "df[\"count_words_lower\"] = df[\"Reviews\"].apply(lambda x: len([w for w in str(x).split() if w.islower()]))\n",
        "\n",
        "#title case words count\n",
        "df[\"count_words_title\"] = df[\"Reviews\"].apply(lambda x: len([w for w in str(x).split() if w.istitle()]))\n",
        "\n",
        "#Number of stopwords\n",
        "df[\"count_stopwords\"] = df[\"Reviews\"].apply(lambda x: len([w for w in str(x).lower().split() if w in eng_stopwords]))\n",
        "\n",
        "#Average length of the words\n",
        "df[\"mean_word_len\"] = df['Reviews'].apply(lambda x: np.mean([len(w) for w in str(x).split()]))\n",
        "\n",
        "#Number of numeric\n",
        "df['numeric'] = df['Reviews'].apply(lambda x :len([x for x in x.split() if x.isdigit()]))\n",
        "\n",
        "#Number of alphanumeric\n",
        "df['alphanumeric'] = df['Reviews'].apply(lambda x :len([x for x in x.split() if x.isalnum()]))\n",
        "\n",
        "#Number of alphabetics\n",
        "df['alphabetetics'] = df['Reviews'].apply(lambda x :len([x for x in x.split() if x.isalpha()]))\n",
        "\n",
        "#Number of alphabetics\n",
        "df['Spaces'] = df['Reviews'].apply(lambda x :len([x for x in x.split() if x.isspace()]))\n",
        "\n",
        "#Number of Words ends with\n",
        "df['words_ends_with_et'] = df['Reviews'].apply(lambda x :len([x for x in x.lower().split() if x.endswith('et')]))\n",
        "\n",
        "#Number of Words ends with\n",
        "df['words_start_with_no'] = df['Reviews'].apply(lambda x :len([x for x in x.lower().split() if x.startswith('no')]))\n",
        "\n",
        "# Count the occurences of all words\n",
        "df['wordcounts'] = df['Reviews'].apply(lambda x :dict([ [t, x.split().count(t)] for t in set(x.split()) ]))\n",
        "\n",
        "pos_family = {\n",
        "    'noun' : ['NN','NNS','NNP','NNPS'],\n",
        "    'pron' : ['PRP','PRP$','WP','WP$'],\n",
        "    'verb' : ['VB','VBD','VBG','VBN','VBP','VBZ'],\n",
        "    'adj' :  ['JJ','JJR','JJS'],\n",
        "    'adv' : ['RB','RBR','RBS','WRB']\n",
        "}\n",
        "\n",
        "# function to check and get the part of speech tag count of a words in a given sentence\n",
        "def check_pos_tag(x, flag):\n",
        "    cnt = 0\n",
        "    try:\n",
        "        wiki = textblob.TextBlob(x)\n",
        "        for tup in wiki.tags:\n",
        "            ppo = list(tup)[1]\n",
        "            if ppo in pos_family[flag]:\n",
        "                cnt += 1\n",
        "    except:\n",
        "        pass\n",
        "    return cnt\n",
        "\n",
        "df['noun_count'] = df['Reviews'].apply(lambda x: check_pos_tag(x, 'noun'))\n",
        "df['verb_count'] = df['Reviews'].apply(lambda x: check_pos_tag(x, 'verb'))\n",
        "df['adj_count']  = df['Reviews'].apply(lambda x: check_pos_tag(x, 'adj'))\n",
        "df['adv_count']  = df['Reviews'].apply(lambda x: check_pos_tag(x, 'adv'))\n",
        "df['pron_count'] = df['Reviews'].apply(lambda x: check_pos_tag(x, 'pron')) "
      ]
    },
    {
      "cell_type": "code",
      "execution_count": null,
      "metadata": {
        "id": "tGCnZX_hAkgA",
        "scrolled": true
      },
      "outputs": [],
      "source": [
        "df.head()"
      ]
    },
    {
      "cell_type": "markdown",
      "metadata": {
        "id": "b2tkRq8cAkgA"
      },
      "source": [
        "### Split the data into Train & Test"
      ]
    },
    {
      "cell_type": "code",
      "execution_count": null,
      "metadata": {
        "id": "a2NC3tBzAkgA"
      },
      "outputs": [],
      "source": [
        "# define X and y\n",
        "X = smart.Reviews\n",
        "y = smart.Stars\n",
        "\n",
        "# split the new DataFrame into training and testing sets\n",
        "X_train, X_test, y_train, y_test = train_test_split(X, y,test_size=0.2,random_state=1)\n",
        "print(X_train.shape)\n",
        "print(X_test.shape)\n",
        "print(y_train.shape)\n",
        "print(y_test.shape)"
      ]
    },
    {
      "cell_type": "markdown",
      "metadata": {
        "id": "hRu3rwiXAkgB"
      },
      "source": [
        "### Tokenization"
      ]
    },
    {
      "cell_type": "code",
      "execution_count": null,
      "metadata": {
        "id": "3ksdDgumAkgB"
      },
      "outputs": [],
      "source": [
        "def tokenization(text):\n",
        "    text=word_tokenize(text)\n",
        "    return(text)"
      ]
    },
    {
      "cell_type": "code",
      "execution_count": null,
      "metadata": {
        "id": "YD88MnxzAkgB"
      },
      "outputs": [],
      "source": [
        "token_X_train = X_train.apply(lambda x: tokenization(x))\n",
        "token_X_test = X_test.apply(lambda x: tokenization(x))"
      ]
    },
    {
      "cell_type": "markdown",
      "metadata": {
        "id": "Wat80w7aAkgB"
      },
      "source": [
        "### POS Tagging"
      ]
    },
    {
      "cell_type": "code",
      "execution_count": null,
      "metadata": {
        "id": "-6SRrEQmAkgC"
      },
      "outputs": [],
      "source": [
        "def pos_tagging(text):\n",
        "    text = nltk.pos_tag(text)\n",
        "    return(text)"
      ]
    },
    {
      "cell_type": "code",
      "execution_count": null,
      "metadata": {
        "id": "61ifXzbbAkgC"
      },
      "outputs": [],
      "source": [
        "pos_tag_X_train = token_X_train.apply(lambda x: pos_tagging(x))\n",
        "pos_tag_X_test = token_X_test.apply(lambda x: pos_tagging(x))"
      ]
    },
    {
      "cell_type": "markdown",
      "metadata": {
        "id": "HXo-hybaAkgC"
      },
      "source": [
        "### Disabiguation"
      ]
    },
    {
      "cell_type": "code",
      "execution_count": null,
      "metadata": {
        "id": "QksZMzaCAkgC",
        "scrolled": true
      },
      "outputs": [],
      "source": [
        "# Disambiguation\n",
        "syn=lesk(X_train, 'refinance', 'v')\n",
        "print(syn)\n",
        "print(syn.name())\n",
        "print(syn.definition())   # meaning of refinance\n",
        "print(syn.examples())"
      ]
    },
    {
      "cell_type": "code",
      "execution_count": null,
      "metadata": {
        "id": "Mm8oqQUJAkgC"
      },
      "outputs": [],
      "source": [
        "print(syn.hypernyms())       # Opposite word of refinance\n",
        "print(syn.hyponyms())"
      ]
    },
    {
      "cell_type": "code",
      "execution_count": null,
      "metadata": {
        "id": "xhGNhPvmAkgC"
      },
      "outputs": [],
      "source": [
        "syn.lemmas()                  # Synonyms of refinance"
      ]
    },
    {
      "cell_type": "markdown",
      "metadata": {
        "id": "-eBN4S1XAkgD"
      },
      "source": [
        "### Clean up of non- textual data (white space, numbers, symbols)"
      ]
    },
    {
      "cell_type": "code",
      "execution_count": null,
      "metadata": {
        "id": "IGmm5pLfAkgD"
      },
      "outputs": [],
      "source": [
        "import string\n",
        "def clean_text(text):\n",
        "    text = text.lower()                                       # Convert text to lower case\n",
        "    text = text.strip()\n",
        "    text = re.sub(r'  ', ' ', text)                           #Replacing double space with single space\n",
        "    text = text.replace('/','')                               #Replacing the / with none\n",
        "    text = re.sub(r\"[-()\\\"#/@;:{}`+=~|.!?,']\", \"\", text)      #Replacing special character with none\n",
        "    text = re.sub(r'[0-9]+', '', text)                        #Replacing numbers with none\n",
        "    \n",
        "    return(text)"
      ]
    },
    {
      "cell_type": "code",
      "execution_count": null,
      "metadata": {
        "id": "ycPYTiv9AkgD"
      },
      "outputs": [],
      "source": [
        "X_train = X_train.apply(lambda x: clean_text(x))\n",
        "X_test = X_test.apply(lambda x: clean_text(x))"
      ]
    },
    {
      "cell_type": "markdown",
      "metadata": {
        "id": "Uyi6zyyWAkgD"
      },
      "source": [
        "### Stop word removal"
      ]
    },
    {
      "cell_type": "code",
      "execution_count": null,
      "metadata": {
        "id": "I7Qw9bJHAkgD"
      },
      "outputs": [],
      "source": [
        "stop = set(nltk.corpus.stopwords.words('english'))\n",
        "def stop_word_removal(text):\n",
        "    text = text.apply(lambda x: \" \".join(x for x in x.split() if x not in stop)) #Removing stop words\n",
        "    text = text.apply(lambda x: str(TextBlob(x).correct()))                      # Correct spelling corrections\n",
        "    return(text)"
      ]
    },
    {
      "cell_type": "code",
      "execution_count": null,
      "metadata": {
        "id": "qracB_QyAkgD"
      },
      "outputs": [],
      "source": [
        "X_train=stop_word_removal(X_train)\n",
        "X_test=stop_word_removal(X_test)"
      ]
    },
    {
      "cell_type": "markdown",
      "metadata": {
        "id": "wQmPi5R7AkgD"
      },
      "source": [
        "### Lemmatization"
      ]
    },
    {
      "cell_type": "code",
      "execution_count": null,
      "metadata": {
        "id": "GNkYTknLAkgE"
      },
      "outputs": [],
      "source": [
        "def lemmatization(text):\n",
        "    \n",
        "    text = text.apply(lambda x: \" \".join([Word(word).lemmatize() for word in x.split()]))    # Lemmatization\n",
        "    text = text.apply(lambda x: \" \".join(word for word, pos in nltk.pos_tag(x.split()) if pos not in ['NN','NNS','NNP','NNPS'])) #Removing nouns etc\n",
        "    return(text)"
      ]
    },
    {
      "cell_type": "code",
      "execution_count": null,
      "metadata": {
        "id": "37b-qRRWAkgE"
      },
      "outputs": [],
      "source": [
        "X_train=lemmatization(X_train)\n",
        "X_test=lemmatization(X_test)"
      ]
    },
    {
      "cell_type": "markdown",
      "metadata": {
        "id": "9Z62MN02AkgE"
      },
      "source": [
        "### Vectorization for Train only"
      ]
    },
    {
      "cell_type": "code",
      "execution_count": null,
      "metadata": {
        "id": "xR9DssUFAkgE"
      },
      "outputs": [],
      "source": [
        "#Train\n",
        "count_vect = CountVectorizer(analyzer='word', token_pattern=r'\\w{1,}', \n",
        "                             ngram_range=(1, 1 ), \n",
        "                             min_df=5, \n",
        "                             encoding='latin-1' ,\n",
        "                             max_features=800)\n",
        "X_train_counts = count_vect.fit_transform(X_train)"
      ]
    },
    {
      "cell_type": "code",
      "execution_count": null,
      "metadata": {
        "id": "DscjdtDyAkgE"
      },
      "outputs": [],
      "source": [
        "X_train_counts"
      ]
    },
    {
      "cell_type": "code",
      "execution_count": null,
      "metadata": {
        "id": "csNoJGy4AkgE"
      },
      "outputs": [],
      "source": [
        "X_train_dtm = X_train_counts.toarray()\n",
        "X_train_dtm"
      ]
    },
    {
      "cell_type": "markdown",
      "metadata": {
        "id": "Ngbry4tcAkgF"
      },
      "source": [
        "### Examining the tokens and their counts"
      ]
    },
    {
      "cell_type": "code",
      "execution_count": null,
      "metadata": {
        "id": "RwPeDY_ZAkgF"
      },
      "outputs": [],
      "source": [
        "# store token names\n",
        "X_train_tokens = count_vect.get_feature_names_out()"
      ]
    },
    {
      "cell_type": "code",
      "execution_count": null,
      "metadata": {
        "id": "OjmzDtdhAkgF"
      },
      "outputs": [],
      "source": [
        "# first 50 tokens\n",
        "print(X_train_tokens[:50])"
      ]
    },
    {
      "cell_type": "code",
      "execution_count": null,
      "metadata": {
        "id": "s0fxk5MgAkgF"
      },
      "outputs": [],
      "source": [
        "# last 50 tokens\n",
        "print(X_train_tokens[-50:])"
      ]
    },
    {
      "cell_type": "code",
      "execution_count": null,
      "metadata": {
        "id": "Aj-lhHW7AkgF"
      },
      "outputs": [],
      "source": [
        "# count how many times EACH token appears across ALL messages in X_train_dtm\n",
        "X_train_counts = np.sum(X_train_dtm, axis=0)\n",
        "X_train_counts"
      ]
    },
    {
      "cell_type": "code",
      "execution_count": null,
      "metadata": {
        "id": "LTx2n5amAkgF"
      },
      "outputs": [],
      "source": [
        "# create a DataFrame of tokens with their counts\n",
        "token_count=pd.DataFrame({'token':X_train_tokens, 'count':X_train_counts})\n",
        "token_count.sort_values(by=['count'],ascending=False,inplace=True)\n",
        "token_count"
      ]
    },
    {
      "cell_type": "markdown",
      "metadata": {
        "id": "3zUfGY0pAkgF"
      },
      "source": [
        "### Simple statistics\n",
        "\n",
        "Counting Words Appearing in a Text (a frequency distribution). \n"
      ]
    },
    {
      "cell_type": "code",
      "execution_count": null,
      "metadata": {
        "id": "pKAeZJp0AkgG"
      },
      "outputs": [],
      "source": [
        "Top20=token_count[:20]"
      ]
    },
    {
      "cell_type": "code",
      "execution_count": null,
      "metadata": {
        "id": "UgwtLanwAkgG"
      },
      "outputs": [],
      "source": [
        "#Top20.plot('token','count')\n",
        "plt.figure(figsize=(18,8))\n",
        "plt.plot('token','count',data=Top20)\n",
        "plt.xlabel('Tokens')\n",
        "plt.ylabel('Count')\n",
        "plt.title('Top 20 Tokens')\n",
        "\n",
        "plt.show()"
      ]
    },
    {
      "cell_type": "markdown",
      "metadata": {
        "id": "UWHVC-W4AkgG"
      },
      "source": [
        "### Word Cloud"
      ]
    },
    {
      "cell_type": "code",
      "execution_count": null,
      "metadata": {
        "id": "aKsV25EJAkgG"
      },
      "outputs": [],
      "source": [
        "frequency_words_wo_stop= {}\n",
        "for data in smart['Reviews']:\n",
        "    tokens = nltk.wordpunct_tokenize(data.lower())\n",
        "    for token in tokens:\n",
        "        if token.lower() not in stop:\n",
        "            if token in frequency_words_wo_stop:\n",
        "                count = frequency_words_wo_stop[token]\n",
        "                count = count + 1\n",
        "                frequency_words_wo_stop[token] = count\n",
        "            else:\n",
        "                frequency_words_wo_stop[token] = 1"
      ]
    },
    {
      "cell_type": "code",
      "execution_count": null,
      "metadata": {
        "id": "gbalHp0XAkgG"
      },
      "outputs": [],
      "source": [
        "frequency_words_wo_stop"
      ]
    },
    {
      "cell_type": "code",
      "execution_count": null,
      "metadata": {
        "id": "FY1m4jCdAkgG",
        "scrolled": true
      },
      "outputs": [],
      "source": [
        "wordcloud = WordCloud(stopwords=[]).generate(' '.join(X_train.tolist()))\n",
        "\n",
        "%matplotlib inline\n",
        "fig = plt.figure(figsize=(200,50))\n",
        "plt.imshow(wordcloud)"
      ]
    },
    {
      "cell_type": "markdown",
      "metadata": {
        "id": "Cyq_oiPlAkgG"
      },
      "source": [
        "### Classify reviews to positive, negative and neutral"
      ]
    },
    {
      "cell_type": "code",
      "execution_count": null,
      "metadata": {
        "id": "MdtggO3lAkgG"
      },
      "outputs": [],
      "source": [
        "# We use textblob utility to calculate polarity\n",
        "def get_sentiment(text):\n",
        "    # create TextBlob object of passed text \n",
        "    analysis = TextBlob(text) \n",
        "    # set sentiment \n",
        "    if analysis.sentiment.polarity > 0: \n",
        "        return 'positive'\n",
        "    elif analysis.sentiment.polarity == 0: \n",
        "        return 'neutral'\n",
        "    else: \n",
        "        return 'negative'"
      ]
    },
    {
      "cell_type": "code",
      "execution_count": null,
      "metadata": {
        "id": "zltL_YR2AkgG",
        "scrolled": true
      },
      "outputs": [],
      "source": [
        "text = X_train\n",
        "sentiment = X_train.apply(lambda x: get_sentiment(x))\n",
        "Table = pd.concat([text,sentiment],axis=1)\n",
        "column_names = Table.columns.values\n",
        "column_names[1] = 'Sentiment'\n",
        "Table.columns = column_names\n",
        "Table"
      ]
    },
    {
      "cell_type": "code",
      "execution_count": null,
      "metadata": {
        "id": "vEgNgD4wAkgG"
      },
      "outputs": [],
      "source": [
        "# picking positive reviews\n",
        "positive = Table[Table.Sentiment == 'positive']\n",
        "# percentage of positive reviews \n",
        "print(\"Positive tweets percentage: {} %\".format(100*len(positive)/len(Table.Reviews))) \n",
        "\n",
        "\n",
        "# picking negative reviews\n",
        "negative = Table[Table.Sentiment == 'negative']\n",
        "# percentage of negative reviews \n",
        "print(\"Negative tweets percentage: {} %\".format(100*len(negative)/len(Table.Reviews))) \n",
        "\n",
        "# percentage of neutral reviews\n",
        "print(\"Neutral tweets percentage: {} %\".format(100*(len(Table.Reviews)-len(negative)-len(positive))/len(Table.Reviews))) "
      ]
    },
    {
      "cell_type": "code",
      "execution_count": null,
      "metadata": {
        "id": "8XfcWjcyAkgH"
      },
      "outputs": [],
      "source": [
        "# Top 5 positive reviews\n",
        "positive.head(5)['Reviews'].tolist()"
      ]
    },
    {
      "cell_type": "code",
      "execution_count": null,
      "metadata": {
        "id": "lQYi5TJMAkgH"
      },
      "outputs": [],
      "source": [
        "# Top 5 negative reviews\n",
        "negative.head(5)['Reviews'].tolist()"
      ]
    },
    {
      "cell_type": "markdown",
      "metadata": {
        "id": "Eyab6TO0AkgH"
      },
      "source": [
        "### K-Means Cluster Analysis"
      ]
    },
    {
      "cell_type": "code",
      "execution_count": null,
      "metadata": {
        "id": "VWpTctIDAkgH"
      },
      "outputs": [],
      "source": [
        "from sklearn.cluster import KMeans \n",
        "from sklearn.feature_extraction.text import TfidfVectorizer\n",
        "from sklearn.decomposition import PCA\n",
        "from sklearn.preprocessing import normalize\n",
        "from sklearn.metrics import pairwise_distances"
      ]
    },
    {
      "cell_type": "code",
      "execution_count": null,
      "metadata": {
        "id": "JXBdgwAEAkgH"
      },
      "outputs": [],
      "source": [
        "tf_idf_vectorizor = TfidfVectorizer(max_features = 20000)\n",
        "tf_idf = tf_idf_vectorizor.fit_transform(X_train)\n",
        "tf_idf_norm = normalize(tf_idf)\n",
        "tf_idf_array = tf_idf_norm.toarray()"
      ]
    },
    {
      "cell_type": "code",
      "execution_count": null,
      "metadata": {
        "id": "KDL3MAafAkgH"
      },
      "outputs": [],
      "source": [
        "class Kmeans:\n",
        "    \n",
        "    def __init__(self, k, seed = None, max_iter = 200):\n",
        "        self.k = k\n",
        "        self.seed = seed\n",
        "        if self.seed is not None:\n",
        "            np.random.seed(self.seed)\n",
        "        self.max_iter = max_iter\n",
        "    \n",
        "    def initialise_centroids(self, data):\n",
        "        \n",
        "        initial_centroids = np.random.permutation(data.shape[0])[:self.k]\n",
        "        self.centroids = data[initial_centroids]\n",
        "        return self.centroids\n",
        "    \n",
        "    def assign_clusters(self, data):\n",
        "       \n",
        "        if data.ndim == 1:\n",
        "            data = data.reshape(-1, 1)\n",
        "        \n",
        "        dist_to_centroid =  pairwise_distances(data, self.centroids, metric = 'euclidean')\n",
        "        self.cluster_labels = np.argmin(dist_to_centroid, axis = 1)\n",
        "        return  self.cluster_labels\n",
        "    \n",
        "    def update_centroids(self, data):\n",
        "       \n",
        "        self.centroids = np.array([data[self.cluster_labels == i].mean(axis = 0) for i in range(self.k)])\n",
        "        return self.centroids\n",
        "    \n",
        "    def predict(self, data):\n",
        "        return self.assign_clusters(data)\n",
        "    \n",
        "    def fit_kmeans(self, data):\n",
        "      \n",
        "        self.centroids = self.initialise_centroids(data)\n",
        "        \n",
        "        # Main kmeans loop\n",
        "        for iter in range(self.max_iter):\n",
        "\n",
        "            self.cluster_labels = self.assign_clusters(data)\n",
        "            self.centroids = self.update_centroids(data)          \n",
        "            if iter % 100 == 0:\n",
        "                print(\"Running Model Iteration %d \" %iter)\n",
        "        print(\"Model finished running\")\n",
        "        return self    "
      ]
    },
    {
      "cell_type": "code",
      "execution_count": null,
      "metadata": {
        "id": "ZXsJx920AkgH"
      },
      "outputs": [],
      "source": [
        "number_clusters = range(1, 7)\n",
        "sklearn_pca = PCA(n_components = 2)\n",
        "Y_sklearn = sklearn_pca.fit_transform(tf_idf_array)\n",
        "\n",
        "kmeans = [KMeans(n_clusters=i, max_iter = 600) for i in number_clusters]\n",
        "kmeans\n",
        "\n",
        "score = [kmeans[i].fit(Y_sklearn).score(Y_sklearn) for i in range(len(kmeans))]\n",
        "score\n",
        "\n",
        "plt.plot(number_clusters, score)\n",
        "plt.xlabel('Number of Clusters')\n",
        "plt.ylabel('Score')\n",
        "plt.title('Elbow Method')\n",
        "plt.show()"
      ]
    },
    {
      "cell_type": "code",
      "execution_count": null,
      "metadata": {
        "id": "l9fbLmcaAkgH"
      },
      "outputs": [],
      "source": [
        "test_e = Kmeans(3, 1, 600)\n",
        "fitted = test_e.fit_kmeans(Y_sklearn)\n",
        "predicted_values = test_e.predict(Y_sklearn)\n",
        "\n",
        "plt.scatter(Y_sklearn[:, 0], Y_sklearn[:, 1], c=predicted_values, s=50, cmap='viridis')\n",
        "\n",
        "centers = fitted.centroids\n",
        "plt.scatter(centers[:, 0], centers[:, 1],c='black', s=300, alpha=0.6);"
      ]
    },
    {
      "cell_type": "code",
      "execution_count": null,
      "metadata": {
        "id": "79KvWiFUAkgI"
      },
      "outputs": [],
      "source": [
        "sklearn_pca = PCA(n_components = 2)\n",
        "Y_sklearn = sklearn_pca.fit_transform(tf_idf_array)\n",
        "kmeans = KMeans(n_clusters=3, max_iter=600, algorithm = 'auto')\n",
        "fitted = kmeans.fit(Y_sklearn)\n",
        "prediction = kmeans.predict(Y_sklearn)"
      ]
    },
    {
      "cell_type": "code",
      "execution_count": null,
      "metadata": {
        "id": "DR68f8ZrAkgI"
      },
      "outputs": [],
      "source": [
        "def get_top_features_cluster(tf_idf_array, prediction, n_feats):\n",
        "    labels = np.unique(prediction)\n",
        "    dfs = []\n",
        "    for label in labels:\n",
        "        id_temp = np.where(prediction==label) # indices for each cluster\n",
        "        x_means = np.mean(tf_idf_array[id_temp], axis = 0) # returns average score across cluster\n",
        "        sorted_means = np.argsort(x_means)[::-1][:n_feats] # indices with top 20 scores\n",
        "        features = tf_idf_vectorizor.get_feature_names_out()\n",
        "        best_features = [(features[i], x_means[i]) for i in sorted_means]\n",
        "        df = pd.DataFrame(best_features, columns = ['features', 'score'])\n",
        "        dfs.append(df)\n",
        "    return dfs\n",
        "df1,df2,df3 = get_top_features_cluster(tf_idf_array, prediction, 15)\n",
        "df1"
      ]
    },
    {
      "cell_type": "code",
      "execution_count": null,
      "metadata": {
        "id": "K2pJInM0AkgI"
      },
      "outputs": [],
      "source": [
        "# cluster1 top 15 words\n",
        "sns.barplot(x='score',y=\"features\", data=df1)\n",
        "plt.show()"
      ]
    },
    {
      "cell_type": "code",
      "execution_count": null,
      "metadata": {
        "id": "FWhjiILdAkgI"
      },
      "outputs": [],
      "source": [
        "# cluster2 top 15 words \n",
        "sns.barplot(x='score',y=\"features\", data=df2)\n",
        "plt.show()"
      ]
    },
    {
      "cell_type": "code",
      "execution_count": null,
      "metadata": {
        "id": "7O1Jg_QkAkgI"
      },
      "outputs": [],
      "source": [
        "# cluster3 top 15 words\n",
        "sns.barplot(x='score',y=\"features\", data=df3)\n",
        "plt.show()"
      ]
    },
    {
      "cell_type": "markdown",
      "metadata": {
        "id": "-5ibPUx5AkgJ"
      },
      "source": [
        "### Vectorization (count, tfidf) for both train & test (word level tf-idf)"
      ]
    },
    {
      "cell_type": "code",
      "execution_count": null,
      "metadata": {
        "id": "vflmr28bAkgJ"
      },
      "outputs": [],
      "source": [
        "#Train\n",
        "count_vect = CountVectorizer(analyzer='word', \n",
        "                             token_pattern=r'\\w{1,}', \n",
        "                             ngram_range=(1, 1 ), \n",
        "                             min_df=5, \n",
        "                             encoding='latin-1' , \n",
        "                             max_features=800)\n",
        "xtrain_count = count_vect.fit_transform(X_train)\n",
        "\n",
        "tfidf_transformer = TfidfTransformer()\n",
        "X_train_tfidf = tfidf_transformer.fit_transform(xtrain_count)\n",
        "\n",
        "#Test\n",
        "#count_vect = CountVectorizer()\n",
        "xtest_count = count_vect.transform(X_test)\n",
        "\n",
        "#tfidf_transformer = TfidfTransformer()\n",
        "X_test_tfidf = tfidf_transformer.transform(xtest_count)\n"
      ]
    },
    {
      "cell_type": "code",
      "execution_count": null,
      "metadata": {
        "id": "GWBciZDhAkgJ"
      },
      "outputs": [],
      "source": [
        "dtm2=pd.DataFrame(X_train_tfidf.toarray(), columns=count_vect.get_feature_names_out())"
      ]
    },
    {
      "cell_type": "code",
      "execution_count": null,
      "metadata": {
        "id": "zHncCwFOAkgJ"
      },
      "outputs": [],
      "source": [
        "dtm2.head(10)"
      ]
    },
    {
      "cell_type": "markdown",
      "metadata": {
        "id": "xvgxPieAAkgJ"
      },
      "source": [
        "### N-gram generators (n-gram level tf-idf)"
      ]
    },
    {
      "cell_type": "code",
      "execution_count": null,
      "metadata": {
        "id": "qi_BRyKqAkgJ"
      },
      "outputs": [],
      "source": [
        "# ngram level tf-idf \n",
        "tfidf_vect_ngram = TfidfVectorizer(analyzer='word', token_pattern='\\w{1,}', ngram_range=(1, 2), max_features=800)\n",
        "tfidf_vect_ngram.fit(smart['Reviews'])\n",
        "xtrain_tfidf_ngram =  tfidf_vect_ngram.transform(X_train)\n",
        "xtest_tfidf_ngram =  tfidf_vect_ngram.transform(X_test)"
      ]
    },
    {
      "cell_type": "markdown",
      "metadata": {
        "id": "lYym_aRMAkgK"
      },
      "source": [
        "### character level tf-idf"
      ]
    },
    {
      "cell_type": "code",
      "execution_count": null,
      "metadata": {
        "id": "0b4Fk70LAkgK"
      },
      "outputs": [],
      "source": [
        "# characters level tf-idf\n",
        "tfidf_vect_ngram_chars = TfidfVectorizer(analyzer='char', token_pattern='\\w{1,}', ngram_range=(1,2), max_features=800)\n",
        "tfidf_vect_ngram_chars.fit(smart['Reviews'])\n",
        "xtrain_tfidf_ngram_chars =  tfidf_vect_ngram_chars.transform(X_train) \n",
        "xtest_tfidf_ngram_chars =  tfidf_vect_ngram_chars.transform(X_test)"
      ]
    },
    {
      "cell_type": "markdown",
      "metadata": {
        "id": "XC3TelPSAkgK"
      },
      "source": [
        "### Topic Modeling"
      ]
    },
    {
      "cell_type": "code",
      "execution_count": null,
      "metadata": {
        "id": "yXYJ-ojRAkgK"
      },
      "outputs": [],
      "source": [
        "# train a LDA Model\n",
        "lda_model = decomposition.LatentDirichletAllocation(n_components=20, learning_method='online', max_iter=50)\n",
        "X_topics = lda_model.fit_transform(X_train_tfidf)\n",
        "topic_word = lda_model.components_ \n",
        "vocab = count_vect.get_feature_names_out()"
      ]
    },
    {
      "cell_type": "code",
      "execution_count": null,
      "metadata": {
        "id": "3WLjwl6JAkgK"
      },
      "outputs": [],
      "source": [
        "# view the topic models\n",
        "n_top_words = 10\n",
        "topic_summaries = []\n",
        "for i, topic_dist in enumerate(topic_word):\n",
        "    topic_words = np.array(vocab)[np.argsort(topic_dist)][:-(n_top_words+1):-1]\n",
        "    topic_summaries.append(' '.join(topic_words))\n",
        "\n",
        "topic_summaries"
      ]
    },
    {
      "cell_type": "markdown",
      "metadata": {
        "id": "KqF7_468AkgK"
      },
      "source": [
        "### Create user defined function for train the models"
      ]
    },
    {
      "cell_type": "code",
      "execution_count": null,
      "metadata": {
        "id": "_KXwC86XAkgK"
      },
      "outputs": [],
      "source": [
        "def train_model(classifier, feature_vector_train, label, feature_vector_valid,  valid_y, is_neural_net=False):\n",
        "    # fit the training dataset on the classifier\n",
        "    classifier.fit(feature_vector_train, label)\n",
        "    \n",
        "    # predict the labels on validation dataset\n",
        "    predictions = classifier.predict(feature_vector_valid)\n",
        "    \n",
        "    if is_neural_net:\n",
        "        predictions = predictions.argmax(axis=-1)\n",
        "    \n",
        "    return metrics.accuracy_score(predictions, valid_y)"
      ]
    },
    {
      "cell_type": "markdown",
      "metadata": {
        "id": "ajX4n040AkgL"
      },
      "source": [
        "## Building different models with different vectors"
      ]
    },
    {
      "cell_type": "markdown",
      "metadata": {
        "id": "Wt7mEvONAkgL"
      },
      "source": [
        "### 1) Naive Bayes"
      ]
    },
    {
      "cell_type": "code",
      "execution_count": null,
      "metadata": {
        "id": "b0mdE3z4AkgL"
      },
      "outputs": [],
      "source": [
        "#Naive Bayes\n",
        "# Naive Bayes on Count Vectors and TF-IDF\n",
        "accuracy_L1 = train_model(naive_bayes.MultinomialNB(), X_train_tfidf, y_train, X_test_tfidf, y_test)\n",
        "print(\"NB for L1, Count Vectors: \", accuracy_L1)\n",
        "\n",
        "\n",
        "\n",
        "# Naive Bayes on Word Level TF IDF Vectors\n",
        "accuracy_L1 = train_model(naive_bayes.MultinomialNB(), xtrain_count, y_train, xtest_count, y_test)\n",
        "print(\"NB for L1, WordLevel TF-IDF: \", accuracy_L1)\n",
        "\n",
        "\n",
        "\n",
        "# Naive Bayes on Ngram Level TF IDF Vectors\n",
        "accuracy_L1 = train_model(naive_bayes.MultinomialNB(), xtrain_tfidf_ngram, y_train, xtest_tfidf_ngram, y_test)\n",
        "print(\"NB for L1, N-Gram Vectors: \", accuracy_L1)\n",
        "\n",
        "\n",
        "\n",
        "# Naive Bayes on Character Level TF IDF Vectors\n",
        "accuracy_L1 = train_model(naive_bayes.MultinomialNB(), xtrain_tfidf_ngram_chars, y_train, xtest_tfidf_ngram_chars, y_test)\n",
        "print(\"NB for L1, CharLevel Vectors: \", accuracy_L1)"
      ]
    },
    {
      "cell_type": "markdown",
      "metadata": {
        "id": "eWXqB39_AkgL"
      },
      "source": [
        "### 2) Logistic regression"
      ]
    },
    {
      "cell_type": "code",
      "execution_count": null,
      "metadata": {
        "id": "1Jhj8cL7AkgL"
      },
      "outputs": [],
      "source": [
        "#Logistic Regression\n",
        "# Logistic Regression on Count Vectors and TF-IDF\n",
        "accuracy_L1 = train_model(linear_model.LogisticRegression(solver='lbfgs'), X_train_tfidf, y_train, X_test_tfidf, y_test)\n",
        "print(\"LR for L1, Count Vectors: \", accuracy_L1)\n",
        "\n",
        "\n",
        "\n",
        "# Logistic Regression on Word Level TF IDF Vectors\n",
        "accuracy_L1 = train_model(linear_model.LogisticRegression(solver='lbfgs'), xtrain_count, y_train, xtest_count, y_test)\n",
        "print(\"LR for L1, WordLevel TF-IDF: \", accuracy_L1)\n",
        "\n",
        "\n",
        "\n",
        "# Logistic Regression on Ngram Level TF IDF Vectors\n",
        "accuracy_L1 = train_model(linear_model.LogisticRegression(solver='lbfgs'), xtrain_tfidf_ngram, y_train, xtest_tfidf_ngram, y_test)\n",
        "print(\"LR for L1, N-Gram Vectors: \", accuracy_L1)\n",
        "\n",
        "\n",
        "\n",
        "# Logistic Regression on Character Level TF IDF Vectors\n",
        "accuracy_L1 = train_model(linear_model.LogisticRegression(solver='lbfgs'), xtrain_tfidf_ngram_chars, y_train, xtest_tfidf_ngram_chars, y_test)\n",
        "print(\"LR for L1, CharLevel Vectors: \", accuracy_L1)"
      ]
    },
    {
      "cell_type": "markdown",
      "metadata": {
        "id": "VjCuLgqsAkgL"
      },
      "source": [
        "###  3) SVM"
      ]
    },
    {
      "cell_type": "code",
      "execution_count": null,
      "metadata": {
        "id": "9rVVklfUAkgL"
      },
      "outputs": [],
      "source": [
        "import warnings\n",
        "warnings.filterwarnings(\"ignore\")    # Ignore all warnings\n",
        "\n",
        "#Linear SVC\n",
        "# Linear SVC on Count Vectors and TF-IDF\n",
        "accuracy_L1 = train_model(svm.LinearSVC(), X_train_tfidf, y_train, X_test_tfidf, y_test)\n",
        "print(\"SVC for L1, Count Vectors: \", accuracy_L1)\n",
        "\n",
        "\n",
        "\n",
        "# Linear SVC on Word Level TF IDF Vectors\n",
        "accuracy_L1 = train_model(svm.LinearSVC(), xtrain_count, y_train, xtest_count, y_test)\n",
        "print(\"SVC for L1, WordLevel TF-IDF: \", accuracy_L1)\n",
        "\n",
        "\n",
        "\n",
        "# Linear SVC on Ngram Level TF IDF Vectors\n",
        "accuracy_L1 = train_model(svm.LinearSVC(), xtrain_tfidf_ngram, y_train, xtest_tfidf_ngram, y_test)\n",
        "print(\"SVC for L1, N-Gram Vectors: \", accuracy_L1)\n",
        "\n",
        "\n",
        "\n",
        "# Linear SVC on Character Level TF IDF Vectors\n",
        "accuracy_L1 = train_model(svm.LinearSVC(), xtrain_tfidf_ngram_chars, y_train, xtest_tfidf_ngram_chars, y_test)\n",
        "print(\"SVC for L1, CharLevel Vectors: \", accuracy_L1)"
      ]
    },
    {
      "cell_type": "markdown",
      "metadata": {
        "id": "KRXMfeiaAkgM"
      },
      "source": [
        "### 4) Bagging"
      ]
    },
    {
      "cell_type": "code",
      "execution_count": null,
      "metadata": {
        "id": "MKyXloKvAkgM"
      },
      "outputs": [],
      "source": [
        "# Random Forest Classifier\n",
        "# Random Forest Classifier on Count Vectors and TF-IDF\n",
        "accuracy_L1 = train_model(ensemble.RandomForestClassifier(), X_train_tfidf, y_train, X_test_tfidf, y_test)\n",
        "print(\"Bagging for L1, Count Vectors: \", accuracy_L1)\n",
        "\n",
        "\n",
        "\n",
        "# Random Forest Classifier on Word Level TF IDF Vectors\n",
        "accuracy_L1 = train_model(ensemble.RandomForestClassifier(), xtrain_count, y_train, xtest_count, y_test)\n",
        "print(\"Bagging for L1, WordLevel TF-IDF: \", accuracy_L1)\n",
        "\n",
        "\n",
        "\n",
        "# Random Forest Classifier on Ngram Level TF IDF Vectors\n",
        "accuracy_L1 = train_model(ensemble.RandomForestClassifier(), xtrain_tfidf_ngram, y_train, xtest_tfidf_ngram, y_test)\n",
        "print(\"Bagging for L1, N-Gram Vectors: \", accuracy_L1)\n",
        "\n",
        "\n",
        "\n",
        "# Random Forest Classifier on Character Level TF IDF Vectors\n",
        "accuracy_L1 = train_model(ensemble.RandomForestClassifier(), xtrain_tfidf_ngram_chars, y_train, xtest_tfidf_ngram_chars, y_test)\n",
        "print(\"Bagging for L1, CharLevel Vectors: \", accuracy_L1)"
      ]
    }
  ],
  "metadata": {
    "colab": {
      "provenance": []
    },
    "kernelspec": {
      "display_name": "Python 3",
      "language": "python",
      "name": "python3"
    },
    "language_info": {
      "codemirror_mode": {
        "name": "ipython",
        "version": 3
      },
      "file_extension": ".py",
      "mimetype": "text/x-python",
      "name": "python",
      "nbconvert_exporter": "python",
      "pygments_lexer": "ipython3",
      "version": "3.7.7"
    }
  },
  "nbformat": 4,
  "nbformat_minor": 0
}